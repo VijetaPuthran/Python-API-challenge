{
 "cells": [
  {
   "cell_type": "markdown",
   "metadata": {},
   "source": [
    "# VacationPy\n",
    "----\n",
    "\n",
    "#### Note\n",
    "* Keep an eye on your API usage. Use https://developers.google.com/maps/reporting/gmp-reporting as reference for how to monitor your usage and billing.\n",
    "\n",
    "* Instructions have been included for each segment. You do not have to follow them exactly, but they are included to help you think through the steps."
   ]
  },
  {
   "cell_type": "code",
   "execution_count": 20,
   "metadata": {},
   "outputs": [
    {
     "name": "stdout",
     "output_type": "stream",
     "text": [
      "Requirement already satisfied: gmaps in c:\\users\\vijet\\anaconda3\\envs\\pythondata\\lib\\site-packages (0.9.0)\n",
      "Requirement already satisfied: six in c:\\users\\vijet\\anaconda3\\envs\\pythondata\\lib\\site-packages (from gmaps) (1.15.0)\n",
      "Requirement already satisfied: geojson>=2.0.0 in c:\\users\\vijet\\anaconda3\\envs\\pythondata\\lib\\site-packages (from gmaps) (2.5.0)\n",
      "Requirement already satisfied: ipywidgets>=7.0.0 in c:\\users\\vijet\\anaconda3\\envs\\pythondata\\lib\\site-packages (from gmaps) (7.6.3)\n",
      "Requirement already satisfied: traitlets>=4.3.0 in c:\\users\\vijet\\anaconda3\\envs\\pythondata\\lib\\site-packages (from gmaps) (4.3.3)\n",
      "Requirement already satisfied: ipython>=5.3.0 in c:\\users\\vijet\\anaconda3\\envs\\pythondata\\lib\\site-packages (from gmaps) (7.16.1)\n",
      "Requirement already satisfied: widgetsnbextension~=3.5.0 in c:\\users\\vijet\\anaconda3\\envs\\pythondata\\lib\\site-packages (from ipywidgets>=7.0.0->gmaps) (3.5.1)\n",
      "Requirement already satisfied: nbformat>=4.2.0 in c:\\users\\vijet\\anaconda3\\envs\\pythondata\\lib\\site-packages (from ipywidgets>=7.0.0->gmaps) (5.0.8)\n",
      "Requirement already satisfied: ipykernel>=4.5.1 in c:\\users\\vijet\\anaconda3\\envs\\pythondata\\lib\\site-packages (from ipywidgets>=7.0.0->gmaps) (5.3.4)\n",
      "Requirement already satisfied: jupyterlab-widgets>=1.0.0; python_version >= \"3.6\" in c:\\users\\vijet\\anaconda3\\envs\\pythondata\\lib\\site-packages (from ipywidgets>=7.0.0->gmaps) (1.0.0)\n",
      "Requirement already satisfied: decorator in c:\\users\\vijet\\anaconda3\\envs\\pythondata\\lib\\site-packages (from traitlets>=4.3.0->gmaps) (4.4.2)\n",
      "Requirement already satisfied: ipython-genutils in c:\\users\\vijet\\anaconda3\\envs\\pythondata\\lib\\site-packages (from traitlets>=4.3.0->gmaps) (0.2.0)\n",
      "Requirement already satisfied: prompt-toolkit!=3.0.0,!=3.0.1,<3.1.0,>=2.0.0 in c:\\users\\vijet\\anaconda3\\envs\\pythondata\\lib\\site-packages (from ipython>=5.3.0->gmaps) (3.0.8)\n",
      "Requirement already satisfied: backcall in c:\\users\\vijet\\anaconda3\\envs\\pythondata\\lib\\site-packages (from ipython>=5.3.0->gmaps) (0.2.0)\n",
      "Requirement already satisfied: setuptools>=18.5 in c:\\users\\vijet\\anaconda3\\envs\\pythondata\\lib\\site-packages (from ipython>=5.3.0->gmaps) (47.3.1.post20200622)\n",
      "Requirement already satisfied: colorama; sys_platform == \"win32\" in c:\\users\\vijet\\anaconda3\\envs\\pythondata\\lib\\site-packages (from ipython>=5.3.0->gmaps) (0.4.4)\n",
      "Requirement already satisfied: jedi>=0.10 in c:\\users\\vijet\\anaconda3\\envs\\pythondata\\lib\\site-packages (from ipython>=5.3.0->gmaps) (0.17.2)\n",
      "Requirement already satisfied: pygments in c:\\users\\vijet\\anaconda3\\envs\\pythondata\\lib\\site-packages (from ipython>=5.3.0->gmaps) (2.7.1)\n",
      "Requirement already satisfied: pickleshare in c:\\users\\vijet\\anaconda3\\envs\\pythondata\\lib\\site-packages (from ipython>=5.3.0->gmaps) (0.7.5)\n",
      "Requirement already satisfied: notebook>=4.4.1 in c:\\users\\vijet\\anaconda3\\envs\\pythondata\\lib\\site-packages (from widgetsnbextension~=3.5.0->ipywidgets>=7.0.0->gmaps) (6.1.4)\n",
      "Requirement already satisfied: jupyter-core in c:\\users\\vijet\\anaconda3\\envs\\pythondata\\lib\\site-packages (from nbformat>=4.2.0->ipywidgets>=7.0.0->gmaps) (4.6.3)\n",
      "Requirement already satisfied: jsonschema!=2.5.0,>=2.4 in c:\\users\\vijet\\anaconda3\\envs\\pythondata\\lib\\site-packages (from nbformat>=4.2.0->ipywidgets>=7.0.0->gmaps) (3.2.0)\n",
      "Requirement already satisfied: jupyter-client in c:\\users\\vijet\\anaconda3\\envs\\pythondata\\lib\\site-packages (from ipykernel>=4.5.1->ipywidgets>=7.0.0->gmaps) (6.1.7)\n",
      "Requirement already satisfied: tornado>=4.2 in c:\\users\\vijet\\anaconda3\\envs\\pythondata\\lib\\site-packages (from ipykernel>=4.5.1->ipywidgets>=7.0.0->gmaps) (6.0.4)\n",
      "Requirement already satisfied: wcwidth in c:\\users\\vijet\\anaconda3\\envs\\pythondata\\lib\\site-packages (from prompt-toolkit!=3.0.0,!=3.0.1,<3.1.0,>=2.0.0->ipython>=5.3.0->gmaps) (0.2.5)\n",
      "Requirement already satisfied: parso<0.8.0,>=0.7.0 in c:\\users\\vijet\\anaconda3\\envs\\pythondata\\lib\\site-packages (from jedi>=0.10->ipython>=5.3.0->gmaps) (0.7.0)\n",
      "Requirement already satisfied: pyzmq>=17 in c:\\users\\vijet\\anaconda3\\envs\\pythondata\\lib\\site-packages (from notebook>=4.4.1->widgetsnbextension~=3.5.0->ipywidgets>=7.0.0->gmaps) (19.0.2)\n",
      "Requirement already satisfied: argon2-cffi in c:\\users\\vijet\\anaconda3\\envs\\pythondata\\lib\\site-packages (from notebook>=4.4.1->widgetsnbextension~=3.5.0->ipywidgets>=7.0.0->gmaps) (20.1.0)\n",
      "Requirement already satisfied: nbconvert in c:\\users\\vijet\\anaconda3\\envs\\pythondata\\lib\\site-packages (from notebook>=4.4.1->widgetsnbextension~=3.5.0->ipywidgets>=7.0.0->gmaps) (6.0.7)\n",
      "Requirement already satisfied: prometheus-client in c:\\users\\vijet\\anaconda3\\envs\\pythondata\\lib\\site-packages (from notebook>=4.4.1->widgetsnbextension~=3.5.0->ipywidgets>=7.0.0->gmaps) (0.8.0)\n",
      "Requirement already satisfied: terminado>=0.8.3 in c:\\users\\vijet\\anaconda3\\envs\\pythondata\\lib\\site-packages (from notebook>=4.4.1->widgetsnbextension~=3.5.0->ipywidgets>=7.0.0->gmaps) (0.9.1)\n",
      "Requirement already satisfied: jinja2 in c:\\users\\vijet\\anaconda3\\envs\\pythondata\\lib\\site-packages (from notebook>=4.4.1->widgetsnbextension~=3.5.0->ipywidgets>=7.0.0->gmaps) (2.11.2)\n",
      "Requirement already satisfied: Send2Trash in c:\\users\\vijet\\anaconda3\\envs\\pythondata\\lib\\site-packages (from notebook>=4.4.1->widgetsnbextension~=3.5.0->ipywidgets>=7.0.0->gmaps) (1.5.0)\n",
      "Requirement already satisfied: pywin32>=1.0; sys_platform == \"win32\" in c:\\users\\vijet\\anaconda3\\envs\\pythondata\\lib\\site-packages (from jupyter-core->nbformat>=4.2.0->ipywidgets>=7.0.0->gmaps) (227)\n",
      "Requirement already satisfied: pyrsistent>=0.14.0 in c:\\users\\vijet\\anaconda3\\envs\\pythondata\\lib\\site-packages (from jsonschema!=2.5.0,>=2.4->nbformat>=4.2.0->ipywidgets>=7.0.0->gmaps) (0.17.3)\n",
      "Requirement already satisfied: importlib-metadata; python_version < \"3.8\" in c:\\users\\vijet\\anaconda3\\envs\\pythondata\\lib\\site-packages (from jsonschema!=2.5.0,>=2.4->nbformat>=4.2.0->ipywidgets>=7.0.0->gmaps) (2.0.0)\n",
      "Requirement already satisfied: attrs>=17.4.0 in c:\\users\\vijet\\anaconda3\\envs\\pythondata\\lib\\site-packages (from jsonschema!=2.5.0,>=2.4->nbformat>=4.2.0->ipywidgets>=7.0.0->gmaps) (20.2.0)\n",
      "Requirement already satisfied: python-dateutil>=2.1 in c:\\users\\vijet\\anaconda3\\envs\\pythondata\\lib\\site-packages (from jupyter-client->ipykernel>=4.5.1->ipywidgets>=7.0.0->gmaps) (2.8.1)\n",
      "Requirement already satisfied: cffi>=1.0.0 in c:\\users\\vijet\\anaconda3\\envs\\pythondata\\lib\\site-packages (from argon2-cffi->notebook>=4.4.1->widgetsnbextension~=3.5.0->ipywidgets>=7.0.0->gmaps) (1.14.3)\n",
      "Requirement already satisfied: mistune<2,>=0.8.1 in c:\\users\\vijet\\anaconda3\\envs\\pythondata\\lib\\site-packages (from nbconvert->notebook>=4.4.1->widgetsnbextension~=3.5.0->ipywidgets>=7.0.0->gmaps) (0.8.4)\n",
      "Requirement already satisfied: defusedxml in c:\\users\\vijet\\anaconda3\\envs\\pythondata\\lib\\site-packages (from nbconvert->notebook>=4.4.1->widgetsnbextension~=3.5.0->ipywidgets>=7.0.0->gmaps) (0.6.0)\n",
      "Requirement already satisfied: jupyterlab-pygments in c:\\users\\vijet\\anaconda3\\envs\\pythondata\\lib\\site-packages (from nbconvert->notebook>=4.4.1->widgetsnbextension~=3.5.0->ipywidgets>=7.0.0->gmaps) (0.1.2)\n",
      "Requirement already satisfied: entrypoints>=0.2.2 in c:\\users\\vijet\\anaconda3\\envs\\pythondata\\lib\\site-packages (from nbconvert->notebook>=4.4.1->widgetsnbextension~=3.5.0->ipywidgets>=7.0.0->gmaps) (0.3)\n",
      "Requirement already satisfied: pandocfilters>=1.4.1 in c:\\users\\vijet\\anaconda3\\envs\\pythondata\\lib\\site-packages (from nbconvert->notebook>=4.4.1->widgetsnbextension~=3.5.0->ipywidgets>=7.0.0->gmaps) (1.4.2)\n",
      "Requirement already satisfied: bleach in c:\\users\\vijet\\anaconda3\\envs\\pythondata\\lib\\site-packages (from nbconvert->notebook>=4.4.1->widgetsnbextension~=3.5.0->ipywidgets>=7.0.0->gmaps) (3.2.1)\n",
      "Requirement already satisfied: nbclient<0.6.0,>=0.5.0 in c:\\users\\vijet\\anaconda3\\envs\\pythondata\\lib\\site-packages (from nbconvert->notebook>=4.4.1->widgetsnbextension~=3.5.0->ipywidgets>=7.0.0->gmaps) (0.5.1)\n",
      "Requirement already satisfied: testpath in c:\\users\\vijet\\anaconda3\\envs\\pythondata\\lib\\site-packages (from nbconvert->notebook>=4.4.1->widgetsnbextension~=3.5.0->ipywidgets>=7.0.0->gmaps) (0.4.4)\n",
      "Requirement already satisfied: pywinpty>=0.5 in c:\\users\\vijet\\anaconda3\\envs\\pythondata\\lib\\site-packages (from terminado>=0.8.3->notebook>=4.4.1->widgetsnbextension~=3.5.0->ipywidgets>=7.0.0->gmaps) (0.5.7)\n",
      "Requirement already satisfied: MarkupSafe>=0.23 in c:\\users\\vijet\\anaconda3\\envs\\pythondata\\lib\\site-packages (from jinja2->notebook>=4.4.1->widgetsnbextension~=3.5.0->ipywidgets>=7.0.0->gmaps) (1.1.1)\n",
      "Requirement already satisfied: zipp>=0.5 in c:\\users\\vijet\\anaconda3\\envs\\pythondata\\lib\\site-packages (from importlib-metadata; python_version < \"3.8\"->jsonschema!=2.5.0,>=2.4->nbformat>=4.2.0->ipywidgets>=7.0.0->gmaps) (3.3.1)\n",
      "Requirement already satisfied: pycparser in c:\\users\\vijet\\anaconda3\\envs\\pythondata\\lib\\site-packages (from cffi>=1.0.0->argon2-cffi->notebook>=4.4.1->widgetsnbextension~=3.5.0->ipywidgets>=7.0.0->gmaps) (2.20)\n",
      "Requirement already satisfied: packaging in c:\\users\\vijet\\anaconda3\\envs\\pythondata\\lib\\site-packages (from bleach->nbconvert->notebook>=4.4.1->widgetsnbextension~=3.5.0->ipywidgets>=7.0.0->gmaps) (20.4)\n",
      "Requirement already satisfied: webencodings in c:\\users\\vijet\\anaconda3\\envs\\pythondata\\lib\\site-packages (from bleach->nbconvert->notebook>=4.4.1->widgetsnbextension~=3.5.0->ipywidgets>=7.0.0->gmaps) (0.5.1)\n",
      "Requirement already satisfied: nest-asyncio in c:\\users\\vijet\\anaconda3\\envs\\pythondata\\lib\\site-packages (from nbclient<0.6.0,>=0.5.0->nbconvert->notebook>=4.4.1->widgetsnbextension~=3.5.0->ipywidgets>=7.0.0->gmaps) (1.4.1)\n",
      "Requirement already satisfied: async-generator in c:\\users\\vijet\\anaconda3\\envs\\pythondata\\lib\\site-packages (from nbclient<0.6.0,>=0.5.0->nbconvert->notebook>=4.4.1->widgetsnbextension~=3.5.0->ipywidgets>=7.0.0->gmaps) (1.10)\n",
      "Requirement already satisfied: pyparsing>=2.0.2 in c:\\users\\vijet\\anaconda3\\envs\\pythondata\\lib\\site-packages (from packaging->bleach->nbconvert->notebook>=4.4.1->widgetsnbextension~=3.5.0->ipywidgets>=7.0.0->gmaps) (2.4.7)\n"
     ]
    },
    {
     "name": "stderr",
     "output_type": "stream",
     "text": [
      "Config option `kernel_spec_manager_class` not recognized by `EnableNBExtensionApp`.\n",
      "Enabling notebook extension jupyter-js-widgets/extension...\n",
      "      - Validating: ok\n",
      "Config option `kernel_spec_manager_class` not recognized by `EnableNBExtensionApp`.\n",
      "Enabling notebook extension jupyter-gmaps/extension...\n",
      "      - Validating: ok\n",
      "Config option `kernel_spec_manager_class` not recognized by `EnableNBExtensionApp`.\n",
      "Enabling notebook extension jupyter-gmaps/extension...\n",
      "      - Validating: ok\n"
     ]
    }
   ],
   "source": [
    "!pip install gmaps\n",
    "!jupyter nbextension enable --py --sys-prefix widgetsnbextension\n",
    "!jupyter nbextension enable --py --sys-prefix gmaps\n",
    "!jupyter nbextension enable --py gmaps\n",
    "# Dependencies and Setup\n",
    "import matplotlib.pyplot as plt\n",
    "import pandas as pd\n",
    "import numpy as np\n",
    "import requests\n",
    "import gmaps\n",
    "import os\n",
    "# Import API key\n",
    "from api_keys import g_key\n"
   ]
  },
  {
   "cell_type": "markdown",
   "metadata": {},
   "source": [
    "### Store Part I results into DataFrame\n",
    "* Load the csv exported in Part I to a DataFrame"
   ]
  },
  {
   "cell_type": "code",
   "execution_count": 21,
   "metadata": {},
   "outputs": [
    {
     "data": {
      "text/html": [
       "<div>\n",
       "<style scoped>\n",
       "    .dataframe tbody tr th:only-of-type {\n",
       "        vertical-align: middle;\n",
       "    }\n",
       "\n",
       "    .dataframe tbody tr th {\n",
       "        vertical-align: top;\n",
       "    }\n",
       "\n",
       "    .dataframe thead th {\n",
       "        text-align: right;\n",
       "    }\n",
       "</style>\n",
       "<table border=\"1\" class=\"dataframe\">\n",
       "  <thead>\n",
       "    <tr style=\"text-align: right;\">\n",
       "      <th></th>\n",
       "      <th>City</th>\n",
       "      <th>Lat</th>\n",
       "      <th>Lng</th>\n",
       "      <th>Max Temp</th>\n",
       "      <th>Humidity</th>\n",
       "      <th>Cloudiness</th>\n",
       "      <th>Wind Speed</th>\n",
       "      <th>Country</th>\n",
       "      <th>Date</th>\n",
       "    </tr>\n",
       "  </thead>\n",
       "  <tbody>\n",
       "    <tr>\n",
       "      <th>0</th>\n",
       "      <td>jamestown</td>\n",
       "      <td>42.0970</td>\n",
       "      <td>-79.2353</td>\n",
       "      <td>11.08</td>\n",
       "      <td>85</td>\n",
       "      <td>90</td>\n",
       "      <td>4.61</td>\n",
       "      <td>US</td>\n",
       "      <td>1612763527</td>\n",
       "    </tr>\n",
       "    <tr>\n",
       "      <th>1</th>\n",
       "      <td>yeppoon</td>\n",
       "      <td>-23.1333</td>\n",
       "      <td>150.7333</td>\n",
       "      <td>91.40</td>\n",
       "      <td>55</td>\n",
       "      <td>75</td>\n",
       "      <td>19.57</td>\n",
       "      <td>AU</td>\n",
       "      <td>1612763738</td>\n",
       "    </tr>\n",
       "    <tr>\n",
       "      <th>2</th>\n",
       "      <td>usinsk</td>\n",
       "      <td>65.9939</td>\n",
       "      <td>57.5281</td>\n",
       "      <td>-16.80</td>\n",
       "      <td>87</td>\n",
       "      <td>100</td>\n",
       "      <td>15.70</td>\n",
       "      <td>RU</td>\n",
       "      <td>1612763738</td>\n",
       "    </tr>\n",
       "    <tr>\n",
       "      <th>3</th>\n",
       "      <td>innisfail</td>\n",
       "      <td>-17.5333</td>\n",
       "      <td>146.0333</td>\n",
       "      <td>86.61</td>\n",
       "      <td>72</td>\n",
       "      <td>98</td>\n",
       "      <td>6.35</td>\n",
       "      <td>AU</td>\n",
       "      <td>1612763738</td>\n",
       "    </tr>\n",
       "    <tr>\n",
       "      <th>4</th>\n",
       "      <td>zhelyabovka</td>\n",
       "      <td>45.3988</td>\n",
       "      <td>34.7578</td>\n",
       "      <td>34.75</td>\n",
       "      <td>94</td>\n",
       "      <td>100</td>\n",
       "      <td>13.15</td>\n",
       "      <td>UA</td>\n",
       "      <td>1612763738</td>\n",
       "    </tr>\n",
       "  </tbody>\n",
       "</table>\n",
       "</div>"
      ],
      "text/plain": [
       "          City      Lat       Lng  Max Temp  Humidity  Cloudiness  Wind Speed  \\\n",
       "0    jamestown  42.0970  -79.2353     11.08        85          90        4.61   \n",
       "1      yeppoon -23.1333  150.7333     91.40        55          75       19.57   \n",
       "2       usinsk  65.9939   57.5281    -16.80        87         100       15.70   \n",
       "3    innisfail -17.5333  146.0333     86.61        72          98        6.35   \n",
       "4  zhelyabovka  45.3988   34.7578     34.75        94         100       13.15   \n",
       "\n",
       "  Country        Date  \n",
       "0      US  1612763527  \n",
       "1      AU  1612763738  \n",
       "2      RU  1612763738  \n",
       "3      AU  1612763738  \n",
       "4      UA  1612763738  "
      ]
     },
     "execution_count": 21,
     "metadata": {},
     "output_type": "execute_result"
    }
   ],
   "source": [
    "#CityData.csv\n",
    "vacation_data = pd.read_csv('../WeatherPy/CityData.csv')\n",
    "vacation_data.head()"
   ]
  },
  {
   "cell_type": "markdown",
   "metadata": {},
   "source": [
    "### Humidity Heatmap\n",
    "* Configure gmaps.\n",
    "* Use the Lat and Lng as locations and Humidity as the weight.\n",
    "* Add Heatmap layer to map."
   ]
  },
  {
   "cell_type": "code",
   "execution_count": 22,
   "metadata": {},
   "outputs": [
    {
     "data": {
      "application/vnd.jupyter.widget-view+json": {
       "model_id": "2820c786fd984cb8b687c19be3323a15",
       "version_major": 2,
       "version_minor": 0
      },
      "text/plain": [
       "Figure(layout=FigureLayout(height='420px'))"
      ]
     },
     "metadata": {},
     "output_type": "display_data"
    }
   ],
   "source": [
    "gmaps.configure(api_key=g_key)\n",
    "locations = vacation_data[['Lat', 'Lng']]\n",
    "humidity = vacation_data['Humidity']\n",
    "\n",
    "fig = gmaps.figure()\n",
    "heat_layer = gmaps.heatmap_layer(locations, weights=humidity, dissipating=False,\n",
    "                               max_intensity=100,point_radius = 1)\n",
    "fig.add_layer(heat_layer)\n",
    "fig"
   ]
  },
  {
   "cell_type": "code",
   "execution_count": null,
   "metadata": {},
   "outputs": [],
   "source": []
  },
  {
   "cell_type": "markdown",
   "metadata": {},
   "source": [
    "### Create new DataFrame fitting weather criteria\n",
    "* Narrow down the cities to fit weather conditions.\n",
    "* Drop any rows will null values."
   ]
  },
  {
   "cell_type": "code",
   "execution_count": 25,
   "metadata": {},
   "outputs": [
    {
     "data": {
      "text/html": [
       "<div>\n",
       "<style scoped>\n",
       "    .dataframe tbody tr th:only-of-type {\n",
       "        vertical-align: middle;\n",
       "    }\n",
       "\n",
       "    .dataframe tbody tr th {\n",
       "        vertical-align: top;\n",
       "    }\n",
       "\n",
       "    .dataframe thead th {\n",
       "        text-align: right;\n",
       "    }\n",
       "</style>\n",
       "<table border=\"1\" class=\"dataframe\">\n",
       "  <thead>\n",
       "    <tr style=\"text-align: right;\">\n",
       "      <th></th>\n",
       "      <th>City</th>\n",
       "      <th>Lat</th>\n",
       "      <th>Lng</th>\n",
       "      <th>Max Temp</th>\n",
       "      <th>Humidity</th>\n",
       "      <th>Cloudiness</th>\n",
       "      <th>Wind Speed</th>\n",
       "      <th>Country</th>\n",
       "      <th>Date</th>\n",
       "    </tr>\n",
       "  </thead>\n",
       "  <tbody>\n",
       "    <tr>\n",
       "      <th>0</th>\n",
       "      <td>jamestown</td>\n",
       "      <td>42.0970</td>\n",
       "      <td>-79.2353</td>\n",
       "      <td>11.08</td>\n",
       "      <td>85</td>\n",
       "      <td>90</td>\n",
       "      <td>4.61</td>\n",
       "      <td>US</td>\n",
       "      <td>1612763527</td>\n",
       "    </tr>\n",
       "    <tr>\n",
       "      <th>1</th>\n",
       "      <td>yeppoon</td>\n",
       "      <td>-23.1333</td>\n",
       "      <td>150.7333</td>\n",
       "      <td>91.40</td>\n",
       "      <td>55</td>\n",
       "      <td>75</td>\n",
       "      <td>19.57</td>\n",
       "      <td>AU</td>\n",
       "      <td>1612763738</td>\n",
       "    </tr>\n",
       "    <tr>\n",
       "      <th>2</th>\n",
       "      <td>usinsk</td>\n",
       "      <td>65.9939</td>\n",
       "      <td>57.5281</td>\n",
       "      <td>-16.80</td>\n",
       "      <td>87</td>\n",
       "      <td>100</td>\n",
       "      <td>15.70</td>\n",
       "      <td>RU</td>\n",
       "      <td>1612763738</td>\n",
       "    </tr>\n",
       "    <tr>\n",
       "      <th>3</th>\n",
       "      <td>innisfail</td>\n",
       "      <td>-17.5333</td>\n",
       "      <td>146.0333</td>\n",
       "      <td>86.61</td>\n",
       "      <td>72</td>\n",
       "      <td>98</td>\n",
       "      <td>6.35</td>\n",
       "      <td>AU</td>\n",
       "      <td>1612763738</td>\n",
       "    </tr>\n",
       "    <tr>\n",
       "      <th>4</th>\n",
       "      <td>zhelyabovka</td>\n",
       "      <td>45.3988</td>\n",
       "      <td>34.7578</td>\n",
       "      <td>34.75</td>\n",
       "      <td>94</td>\n",
       "      <td>100</td>\n",
       "      <td>13.15</td>\n",
       "      <td>UA</td>\n",
       "      <td>1612763738</td>\n",
       "    </tr>\n",
       "  </tbody>\n",
       "</table>\n",
       "</div>"
      ],
      "text/plain": [
       "          City      Lat       Lng  Max Temp  Humidity  Cloudiness  Wind Speed  \\\n",
       "0    jamestown  42.0970  -79.2353     11.08        85          90        4.61   \n",
       "1      yeppoon -23.1333  150.7333     91.40        55          75       19.57   \n",
       "2       usinsk  65.9939   57.5281    -16.80        87         100       15.70   \n",
       "3    innisfail -17.5333  146.0333     86.61        72          98        6.35   \n",
       "4  zhelyabovka  45.3988   34.7578     34.75        94         100       13.15   \n",
       "\n",
       "  Country        Date  \n",
       "0      US  1612763527  \n",
       "1      AU  1612763738  \n",
       "2      RU  1612763738  \n",
       "3      AU  1612763738  \n",
       "4      UA  1612763738  "
      ]
     },
     "execution_count": 25,
     "metadata": {},
     "output_type": "execute_result"
    }
   ],
   "source": [
    "ideal_weather = vacation_data[(vacation_data['Max Temp'] < 85) & \n",
    "                              (vacation_data['Max Temp'] > 65) &\n",
    "                              (vacation_data['Wind Speed'] < 10) &\n",
    "                              (vacation_data['Cloudiness'] == 0) ]\n",
    "vacation_data.head(5)                              "
   ]
  },
  {
   "cell_type": "markdown",
   "metadata": {},
   "source": [
    "### Hotel Map\n",
    "* Store into variable named `hotel_df`.\n",
    "* Add a \"Hotel Name\" column to the DataFrame.\n",
    "* Set parameters to search for hotels with 5000 meters.\n",
    "* Hit the Google Places API for each city's coordinates.\n",
    "* Store the first Hotel result into the DataFrame.\n",
    "* Plot markers on top of the heatmap."
   ]
  },
  {
   "cell_type": "code",
   "execution_count": 27,
   "metadata": {},
   "outputs": [
    {
     "ename": "SyntaxError",
     "evalue": "invalid syntax (<ipython-input-27-5dab950786e7>, line 1)",
     "output_type": "error",
     "traceback": [
      "\u001b[1;36m  File \u001b[1;32m\"<ipython-input-27-5dab950786e7>\"\u001b[1;36m, line \u001b[1;32m1\u001b[0m\n\u001b[1;33m    hotel_df = ideal_weather['Hotel Name' = \"\"]\u001b[0m\n\u001b[1;37m                                          ^\u001b[0m\n\u001b[1;31mSyntaxError\u001b[0m\u001b[1;31m:\u001b[0m invalid syntax\n"
     ]
    }
   ],
   "source": [
    "hotel_df = ideal_weather['Hotel Name' = \"\"]\n",
    "hotel_df"
   ]
  },
  {
   "cell_type": "code",
   "execution_count": null,
   "metadata": {},
   "outputs": [],
   "source": []
  },
  {
   "cell_type": "code",
   "execution_count": null,
   "metadata": {},
   "outputs": [],
   "source": [
    "# NOTE: Do not change any of the code in this cell\n",
    "\n",
    "# Using the template add the hotel marks to the heatmap\n",
    "info_box_template = \"\"\"\n",
    "<dl>\n",
    "<dt>Name</dt><dd>{Hotel Name}</dd>\n",
    "<dt>City</dt><dd>{City}</dd>\n",
    "<dt>Country</dt><dd>{Country}</dd>\n",
    "</dl>\n",
    "\"\"\"\n",
    "# Store the DataFrame Row\n",
    "# NOTE: be sure to update with your DataFrame name\n",
    "hotel_info = [info_box_template.format(**row) for index, row in hotel_df.iterrows()]\n",
    "locations = hotel_df[[\"Lat\", \"Lng\"]]"
   ]
  },
  {
   "cell_type": "code",
   "execution_count": null,
   "metadata": {},
   "outputs": [],
   "source": [
    "# Add marker layer ontop of heat map\n",
    "\n",
    "\n",
    "# Display figure\n"
   ]
  },
  {
   "cell_type": "code",
   "execution_count": null,
   "metadata": {},
   "outputs": [],
   "source": []
  }
 ],
 "metadata": {
  "kernelspec": {
   "display_name": "Python [conda env:PythonData] *",
   "language": "python",
   "name": "conda-env-PythonData-py"
  },
  "language_info": {
   "codemirror_mode": {
    "name": "ipython",
    "version": 3
   },
   "file_extension": ".py",
   "mimetype": "text/x-python",
   "name": "python",
   "nbconvert_exporter": "python",
   "pygments_lexer": "ipython3",
   "version": "3.6.10"
  },
  "latex_envs": {
   "LaTeX_envs_menu_present": true,
   "autoclose": false,
   "autocomplete": true,
   "bibliofile": "biblio.bib",
   "cite_by": "apalike",
   "current_citInitial": 1,
   "eqLabelWithNumbers": true,
   "eqNumInitial": 1,
   "hotkeys": {
    "equation": "Ctrl-E",
    "itemize": "Ctrl-I"
   },
   "labels_anchors": false,
   "latex_user_defs": false,
   "report_style_numbering": false,
   "user_envs_cfg": false
  }
 },
 "nbformat": 4,
 "nbformat_minor": 4
}
